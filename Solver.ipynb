{
 "cells": [
  {
   "attachments": {},
   "cell_type": "markdown",
   "metadata": {},
   "source": [
    "# **Combinational Digital Circuit Solver** "
   ]
  },
  {
   "attachments": {},
   "cell_type": "markdown",
   "metadata": {},
   "source": [
    "## **Sort nets in topogogical order**"
   ]
  },
  {
   "cell_type": "code",
   "execution_count": 1,
   "metadata": {},
   "outputs": [],
   "source": [
    "import networkx as nx\n",
    "\n",
    "def netlist(file):\n",
    "    edges = []\n",
    "    dictt = {}\n",
    "    # Reading from the file\n",
    "    with open(file,'r') as file1:\n",
    "        each = file1.readlines()\n",
    "        for l in each:\n",
    "              \n",
    "            # Creating a dictionary to keep track of inputs and gates connected to a node\n",
    "            if(l.split()[1] != 'inv' and l.split()[1] != 'buf'):\n",
    "                edges.append((l.split()[2],l.split()[4]))\n",
    "                edges.append((l.split()[3],l.split()[4]))\n",
    "                dictt[l.split()[4]] = [l.split()[2],l.split()[3],l.split()[1]]\n",
    "\n",
    "            else:\n",
    "                edges.append((l.split()[2],l.split()[3]))\n",
    "                dictt[l.split()[3]] = [l.split()[2],l.split()[1]]\n",
    "\n",
    "    net = nx.DiGraph()\n",
    "    net.add_edges_from(edges)\n",
    "    tsort = []\n",
    "    alsort = []\n",
    "    max_length = 0\n",
    "\n",
    "    # Checking if the graph contains cycles\n",
    "    if (nx.is_directed_acyclic_graph(net) == True):\n",
    "        tsort = list(nx.topological_sort(net))\n",
    "        max_length = len(max(tsort,key=len))\n",
    "        alsort = tsort.copy()\n",
    "        alsort.sort()\n",
    "\n",
    "    return tsort,max_length,alsort,dictt,net\n",
    "\n"
   ]
  },
  {
   "attachments": {},
   "cell_type": "markdown",
   "metadata": {},
   "source": [
    "### Printing all given Nets in topological order"
   ]
  },
  {
   "cell_type": "code",
   "execution_count": 2,
   "metadata": {},
   "outputs": [
    {
     "name": "stdout",
     "output_type": "stream",
     "text": [
      "The c8.net in topological order: \n",
      "\n",
      "['q', 'h', 'g', 'f', 'bn0', 'e', 'an0', 'd', 'r', 'cn0', 'y', 'z', 'c', 'b', 'a', 'v', 'w', 'x', 'i', 'l', 'k', 'm', 'n', 'j', 'p', 'u', 'o', 's', 'n_1', 'n_0', 'dummy_11', 'dummy_32', 'dummy_37', 'n_20', 'ln0', 'dummy_28', 'dummy_12', 'dummy_30', 'n_43', 'dummy_39', 'n_2', 'dummy_21', 'dummy_26', 'dummy_24', 'n_31', 'dummy_34', 'dummy_36', 'n_5', 'n_16', 'n_60', 'n_7', 'dummy_25', 'dummy_27', 'dummy_29', 'dummy_31', 'dummy_33', 'dummy_35', 'dummy_38', 'dummy_40', 'dummy_23', 'n_6', 'n_25', 'n_23', 'n_17', 'n_14', 'n_12', 'n_11', 'n_10', 'n_9', 'n_8', 'dummy_1', 'dummy_3', 'dummy_5', 'dummy_7', 'dummy_10', 'dummy_15', 'dummy_18', 'dummy_20', 'dummy_22', 'gn0', 'fn0', 'hn0', 'in0', 'kn0', 'dn0', 'jn0', 'en0', 'n_24', 'n_27', 'n_26', 'n_32', 'n_28', 'dummy_19', 'dummy_17', 'dummy_16', 'n_35', 'n_30', 'n_33', 'n_29', 'n_34', 'n_37', 'n_36', 'n_44', 'dummy_14', 'dummy_13', 'mn0', 'nn0', 'dummy_9', 'dummy_8', 'n_48', 'n_42', 'n_39', 'n_40', 'n_47', 'n_50', 'n_49', 'n_54', 'dummy_6', 'on0', 'n_46', 'pn0', 'dummy_4', 'n_56', 'n_55', 'n_51', 'un0', 'n_57', 'dummy_0', 'dummy_2', 'qn0', 'rn0', 'n_62', 'n_61', 'tn0', 'sn0']\n"
     ]
    }
   ],
   "source": [
    "tsort,max_length,alsort,dictt,net = netlist(\"c8.net\")\n",
    "if(len(tsort)):\n",
    "  print(\"The c8.net in topological order: \\n\")\n",
    "  print(tsort)\n",
    "else: print(\"The graph contains cycles\")\n"
   ]
  },
  {
   "cell_type": "code",
   "execution_count": 3,
   "metadata": {},
   "outputs": [
    {
     "name": "stdout",
     "output_type": "stream",
     "text": [
      "The graph contains cycles\n"
     ]
    }
   ],
   "source": [
    "tsort,max_length,alsort,dictt,net = netlist(\"c17_1.net\")\n",
    "if(len(tsort)):\n",
    "  print(\"The c17_1.net in topological order: \\n\")\n",
    "  print(tsort)\n",
    "else: print(\"The graph contains cycles\")"
   ]
  },
  {
   "cell_type": "code",
   "execution_count": 4,
   "metadata": {},
   "outputs": [
    {
     "name": "stdout",
     "output_type": "stream",
     "text": [
      "The c17.net in topological order: \n",
      "\n",
      "['N2', 'N7', 'N1', 'N3', 'N6', 'n_0', 'n_1', 'n_3', 'n_2', 'N22', 'N23']\n"
     ]
    }
   ],
   "source": [
    "tsort,max_length,alsort,dictt,net = netlist(\"c17.net\")\n",
    "if(len(tsort)):\n",
    "  print(\"The c17.net in topological order: \\n\")\n",
    "  print(tsort)\n",
    "else: print(\"The graph contains cycles\")"
   ]
  },
  {
   "cell_type": "code",
   "execution_count": 5,
   "metadata": {},
   "outputs": [
    {
     "name": "stdout",
     "output_type": "stream",
     "text": [
      "The c432.net in topological order: \n",
      "\n",
      "['N4', 'N108', 'N69', 'N17', 'N30', 'N56', 'N82', 'N95', 'N92', 'N76', 'N79', 'N63', 'N27', 'N11', 'N66', 'N50', 'N105', 'N89', 'N40', 'N24', 'N14', 'N53', 'N8', 'N1', 'N47', 'N86', 'N73', 'N99', 'N34', 'N21', 'N60', 'N43', 'N112', 'N115', 'N37', 'N102', 'n_2', 'n_4', 'n_8', 'n_3', 'n_1', 'n_9', 'n_5', 'n_0', 'n_6', 'n_7', 'n_20', 'n_12', 'n_10', 'n_13', 'n_14', 'dummy_37', 'n_15', 'n_21', 'n_19', 'dummy_56', 'n_11', 'dummy_58', 'dummy_57', 'dummy_54', 'n_17', 'n_16', 'dummy_55', 'n_18', 'n_22', 'n_23', 'n_24', 'n_37', 'n_39', 'n_34', 'n_27', 'n_31', 'n_43', 'n_26', 'n_29', 'N223', 'n_42', 'n_38', 'n_41', 'n_40', 'n_36', 'n_35', 'n_33', 'n_28', 'dummy_35', 'n_32', 'n_44', 'dummy_36', 'n_46', 'n_30', 'dummy_16', 'dummy_18', 'dummy_20', 'dummy_22', 'dummy_24', 'dummy_26', 'dummy_40', 'n_25', 'n_59', 'n_58', 'n_57', 'n_56', 'n_48', 'n_52', 'n_54', 'n_53', 'n_63', 'n_50', 'dummy_48', 'n_47', 'n_62', 'n_45', 'dummy_49', 'dummy_43', 'dummy_50', 'n_49', 'dummy_52', 'dummy_44', 'dummy_51', 'dummy_47', 'dummy_53', 'n_88', 'n_60', 'n_55', 'n_51', 'n_61', 'dummy_46', 'n_64', 'n_65', 'dummy_45', 'N329', 'dummy_39', 'dummy_41', 'dummy_42', 'n_77', 'n_76', 'n_75', 'n_74', 'n_73', 'n_72', 'n_71', 'n_70', 'n_69', 'n_68', 'n_67', 'n_66', 'n_81', 'n_79', 'n_78', 'n_85', 'n_86', 'dummy_38', 'n_82', 'dummy_30', 'n_83', 'dummy_34', 'n_89', 'dummy_32', 'dummy_33', 'n_84', 'n_87', 'n_90', 'dummy_31', 'dummy_29', 'n_91', 'dummy_28', 'N370', 'dummy_15', 'dummy_17', 'dummy_19', 'dummy_21', 'dummy_23', 'dummy_25', 'dummy_27', 'n_92', 'n_101', 'n_98', 'n_97', 'n_96', 'n_95', 'n_94', 'n_93', 'dummy_14', 'dummy_12', 'dummy_8', 'dummy_9', 'dummy_11', 'dummy_13', 'dummy_10', 'dummy_0', 'n_104', 'n_103', 'n_106', 'n_117', 'n_102', 'n_108', 'n_113', 'n_109', 'dummy_2', 'n_105', 'dummy_4', 'dummy_7', 'n_107', 'n_111', 'n_110', 'n_118', 'dummy_6', 'n_112', 'n_114', 'N430', 'dummy_3', 'dummy_5', 'n_116', 'N431', 'N432', 'dummy_1', 'n_121', 'n_122', 'N421']\n"
     ]
    }
   ],
   "source": [
    "tsort,max_length,alsort,dictt,net = netlist(\"c432.net\")\n",
    "if(len(tsort)):\n",
    "  print(\"The c432.net in topological order: \\n\")\n",
    "  print(tsort)\n",
    "else: print(\"The graph contains cycles\")"
   ]
  },
  {
   "cell_type": "code",
   "execution_count": 6,
   "metadata": {},
   "outputs": [
    {
     "name": "stdout",
     "output_type": "stream",
     "text": [
      "The parity.net in topological order: \n",
      "\n",
      "['o', 'p', 'k', 'l', 'c', 'd', 'h', 'g', 'f', 'e', 'n', 'm', 'j', 'i', 'b', 'a', 'dummy_2', 'dummy_3', 'dummy_4', 'n_4', 'n_3', 'n_2', 'n_1', 'n_0', 'dummy_1', 'n_7', 'n_6', 'n_5', 'dummy_0', 'n_8', 'q']\n"
     ]
    }
   ],
   "source": [
    "tsort,max_length,alsort,dictt,net = netlist(\"parity.net\")\n",
    "if(len(tsort)):\n",
    "  print(\"The parity.net in topological order: \\n\")\n",
    "  print(tsort)\n",
    "else: print(\"The graph contains cycles\")"
   ]
  },
  {
   "attachments": {},
   "cell_type": "markdown",
   "metadata": {},
   "source": [
    "<br>"
   ]
  },
  {
   "attachments": {},
   "cell_type": "markdown",
   "metadata": {},
   "source": [
    "## **Evaluation of circuit**"
   ]
  },
  {
   "attachments": {},
   "cell_type": "markdown",
   "metadata": {},
   "source": [
    "### 1) Using topological sort and multiple rounds of circuit evaluations"
   ]
  },
  {
   "cell_type": "code",
   "execution_count": 7,
   "metadata": {},
   "outputs": [],
   "source": [
    "def topological_sort(filename):\n",
    "   with open(filename,'r') as file2:\n",
    "    get = file2.readlines()\n",
    "    row1 = get[0].strip().split()\n",
    "    pi = len(row1)\n",
    "    writee = open(f\"{filename}_output.txt\",'w')\n",
    "    #Printing the nodes in alphabetical order\n",
    "    for i in range(0,len(tsort)): writee.write(f\"{alsort[i]:<{max_length}} \")\n",
    "    writee.write(\"\\n\")\n",
    "\n",
    "    for i in range(1,len(get)):\n",
    "        row = list(map(int,get[i].strip().split()))\n",
    "        mapp = dict(zip(row1,row))\n",
    "\n",
    "        # Going through the nodes from lower level to higher level\n",
    "        for j in range(pi,len(tsort)):\n",
    "\n",
    "          # Doing calculation as per the gate connected to find output\n",
    "          if(len(dictt[tsort[j]])==3):\n",
    "            if (dictt[tsort[j]][2]==\"nand2\"): mapp[tsort[j]] = (mapp[dictt[tsort[j]][1]]*mapp[dictt[tsort[j]][0]])^1\n",
    "            if (dictt[tsort[j]][2]==\"and2\"): mapp[tsort[j]] = (mapp[dictt[tsort[j]][1]]*mapp[dictt[tsort[j]][0]])\n",
    "            if (dictt[tsort[j]][2]==\"or2\"): mapp[tsort[j]] = (mapp[dictt[tsort[j]][1]]|mapp[dictt[tsort[j]][0]])\n",
    "            if (dictt[tsort[j]][2]==\"nor2\"): mapp[tsort[j]] = (mapp[dictt[tsort[j]][1]]|mapp[dictt[tsort[j]][0]])^1\n",
    "            if (dictt[tsort[j]][2]==\"xor2\"): mapp[tsort[j]] = (mapp[dictt[tsort[j]][1]]^mapp[dictt[tsort[j]][0]])\n",
    "            if (dictt[tsort[j]][2]==\"xnor2\"): mapp[tsort[j]] = (mapp[dictt[tsort[j]][1]]^mapp[dictt[tsort[j]][0]])^1\n",
    "          else:\n",
    "            if (dictt[tsort[j]][1]==\"inv\"): mapp[tsort[j]] = (mapp[dictt[tsort[j]][0]])^1\n",
    "            if (dictt[tsort[j]][1]==\"buf\"): mapp[tsort[j]] = (mapp[dictt[tsort[j]][0]])\n",
    "          \n",
    "        #Printing by formatting so that the output alingns with nodes\n",
    "        for i in range(len(alsort)):\n",
    "           writee.write(f\"{mapp[alsort[i]]:<{max_length}} \")\n",
    "        writee.write(\"\\n\")\n"
   ]
  },
  {
   "attachments": {},
   "cell_type": "markdown",
   "metadata": {},
   "source": [
    "### Few sample netlist and their ouput using topological sort"
   ]
  },
  {
   "cell_type": "code",
   "execution_count": 8,
   "metadata": {},
   "outputs": [],
   "source": [
    "tsort,max_length,alsort,dictt,net = netlist(\"test.net\")\n",
    "topological_sort(\"test.inputs\")"
   ]
  },
  {
   "attachments": {},
   "cell_type": "markdown",
   "metadata": {},
   "source": [
    "*Output for the sample netlist given in the presentation :*\n",
    "```\n",
    "A B C D E F G H I J \n",
    "0 1 1 0 0 0 0 0 0 0 \n",
    "1 1 1 1 0 0 0 0 1 0\n",
    "```"
   ]
  },
  {
   "cell_type": "code",
   "execution_count": 9,
   "metadata": {},
   "outputs": [],
   "source": [
    "tsort,max_length,alsort,dictt,net = netlist(\"c17.net\")\n",
    "topological_sort(\"c17.inputs\")"
   ]
  },
  {
   "attachments": {},
   "cell_type": "markdown",
   "metadata": {},
   "source": [
    "*Output for the c17 netlist:*\n",
    "```\n",
    "N1  N2  N22 N23 N3  N6  N7  n_0 n_1 n_2 n_3 \n",
    "0   1   1   1   0   0   0   1   1   1   0   \n",
    "0   0   0   0   1   0   0   1   1   1   1   \n",
    "1   0   0   0   0   0   0   1   1   1   1   \n",
    "0   0   0   0   1   1   1   1   0   1   1   \n",
    "1   1   1   0   1   1   1   0   0   1   1   \n",
    "1   1   1   1   1   0   0   0   1   1   0   \n",
    "1   1   1   0   1   1   0   0   0   1   1   \n",
    "1   1   1   1   0   0   0   1   1   1   0   \n",
    "0   1   1   1   1   0   1   1   1   0   0   \n",
    "0   0   0   0   1   1   0   1   0   1   1   \n",
    "```"
   ]
  },
  {
   "attachments": {},
   "cell_type": "markdown",
   "metadata": {},
   "source": [
    "### 2) Using event driven simulation"
   ]
  },
  {
   "cell_type": "code",
   "execution_count": 33,
   "metadata": {},
   "outputs": [],
   "source": [
    "from queue import Queue\n",
    "#Initializing the queue\n",
    "def event_driven(file):\n",
    "  que = Queue()\n",
    "  ini = [-1]*len(tsort)\n",
    "  with open(file,'r') as file2:\n",
    "    get = file2.readlines()\n",
    "    row1 = get[0].strip().split()\n",
    "\n",
    "    writee = open(f\"{file}_output.txt\",'w')\n",
    "    for i in range(0,len(tsort)): writee.write(f\"{alsort[i]:<{max_length}} \")\n",
    "    writee.write(\"\\n\")\n",
    "    \n",
    "    state = dict(zip(tsort,ini))\n",
    "    for i in range(1,len(get)):\n",
    "        row = list(map(int,get[i].strip().split()))\n",
    "        mapp = dict(zip(row1,row))\n",
    "        track = [-1]*len(tsort) \n",
    "        repeat = dict(zip(tsort,track))  \n",
    "        for pnode in row1:\n",
    "            if (mapp[pnode] != state[pnode]):  \n",
    "                # Adding nodes to queue whose state needs to be updated\n",
    "                que.put(pnode)\n",
    "                repeat[pnode] = 1\n",
    "        \n",
    "        while(not que.empty()):\n",
    "            # Removing the front element\n",
    "            remove = que.get()\n",
    "            # Updating the state of nodes\n",
    "            if(repeat[remove]==1):\n",
    "                if remove in mapp: state[remove] = mapp[remove]\n",
    "                else:\n",
    "                    # Doing calculation as per the gate connected to find output\n",
    "                    if(len(dictt[remove])==3):\n",
    "                        if(repeat[dictt[remove][0]] == -1 and repeat[dictt[remove][1]] == -1):\n",
    "                            if (dictt[remove][2]==\"nand2\"): state[remove] = (state[dictt[remove][1]]*state[dictt[remove][0]])^1\n",
    "                            if (dictt[remove][2]==\"and2\"): state[remove] = (state[dictt[remove][1]]*state[dictt[remove][0]])\n",
    "                            if (dictt[remove][2]==\"or2\"): state[remove] = (state[dictt[remove][1]]|state[dictt[remove][0]])\n",
    "                            if (dictt[remove][2]==\"nor2\"): state[remove] = (state[dictt[remove][1]]|state[dictt[remove][0]])^1\n",
    "                            if (dictt[remove][2]==\"xor2\"): state[remove] = (state[dictt[remove][1]]^state[dictt[remove][0]])\n",
    "                            if (dictt[remove][2]==\"xnor2\"): state[remove] = (state[dictt[remove][1]]^state[dictt[remove][0]])^1\n",
    "                    else: \n",
    "                            if(repeat[dictt[remove][0]] == -1):\n",
    "                                if (dictt[remove][1]==\"inv\"): state[remove] = (state[dictt[remove][0]])^1\n",
    "                                if (dictt[remove][1]==\"buf\"): state[remove] = (state[dictt[remove][0]])\n",
    "                repeat[remove] = -1\n",
    "                        \n",
    "                list(map(que.put,list(net.successors(remove))))\n",
    "                for node in list(net.successors(remove)): repeat[node] =1\n",
    "\n",
    "        #Printing by formatting so that the output alingns with nodes     \n",
    "        for i in range(len(alsort)):\n",
    "          writee.write(f\"{state[alsort[i]]:<{max_length}} \")\n",
    "        writee.write(\"\\n\")\n"
   ]
  },
  {
   "attachments": {},
   "cell_type": "markdown",
   "metadata": {},
   "source": [
    "### Few sample netlist and their ouput using Event driven simulation"
   ]
  },
  {
   "cell_type": "code",
   "execution_count": 34,
   "metadata": {},
   "outputs": [],
   "source": [
    "tsort,max_length,alsort,dictt,net = netlist(\"test.net\")\n",
    "event_driven(\"test.inputs\")"
   ]
  },
  {
   "attachments": {},
   "cell_type": "markdown",
   "metadata": {},
   "source": [
    "*Output for the test netlist :*\n",
    "```\n",
    "A B C D E F G H I J \n",
    "0 1 1 0 0 0 0 0 0 0 \n",
    "1 1 1 1 0 0 0 0 1 0 \n",
    "```"
   ]
  },
  {
   "cell_type": "code",
   "execution_count": 35,
   "metadata": {},
   "outputs": [],
   "source": [
    "tsort,max_length,alsort,dictt,net = netlist(\"c17.net\")\n",
    "event_driven(\"c17.inputs\")"
   ]
  },
  {
   "attachments": {},
   "cell_type": "markdown",
   "metadata": {},
   "source": [
    "*Output for the c17 netlist :*\n",
    "```\n",
    "N1  N2  N22 N23 N3  N6  N7  n_0 n_1 n_2 n_3 \n",
    "0   1   1   1   0   0   0   1   1   1   0   \n",
    "0   0   0   0   1   0   0   1   1   1   1   \n",
    "1   0   0   0   0   0   0   1   1   1   1   \n",
    "0   0   0   0   1   1   1   1   0   1   1   \n",
    "1   1   1   0   1   1   1   0   0   1   1   \n",
    "1   1   1   1   1   0   0   0   1   1   0   \n",
    "1   1   1   0   1   1   0   0   0   1   1   \n",
    "1   1   1   1   0   0   0   1   1   1   0   \n",
    "0   1   1   1   1   0   1   1   1   0   0   \n",
    "0   0   0   0   1   1   0   1   0   1   1   \n",
    "```\n"
   ]
  },
  {
   "attachments": {},
   "cell_type": "markdown",
   "metadata": {},
   "source": [
    "## **Which method is faster?**"
   ]
  },
  {
   "attachments": {},
   "cell_type": "markdown",
   "metadata": {},
   "source": [
    "#### *Test case - c8.net*"
   ]
  },
  {
   "cell_type": "code",
   "execution_count": 36,
   "metadata": {},
   "outputs": [
    {
     "name": "stdout",
     "output_type": "stream",
     "text": [
      "Number of nodes in the graph: 135\n",
      "Time of execution for Event driven method: \n",
      "5.56 ms ± 141 µs per loop (mean ± std. dev. of 7 runs, 100 loops each)\n",
      "\n",
      "\n",
      "Time of execution for topological sort method: \n",
      "1.28 ms ± 66 µs per loop (mean ± std. dev. of 7 runs, 1,000 loops each)\n"
     ]
    }
   ],
   "source": [
    "tsort,max_length,alsort,dictt,net = netlist(\"c8.net\")\n",
    "print(\"Number of nodes in the graph: \",end = \"\")\n",
    "print(len(tsort))\n",
    "if(len(tsort)):\n",
    "\n",
    "    \n",
    "    print(f\"Time of execution for Event driven method: \")\n",
    "    %timeit event_driven(\"c8.inputs\")\n",
    "\n",
    "    print(\"\\n\")\n",
    "\n",
    "    print(f\"Time of execution for topological sort method: \")\n",
    "    %timeit topological_sort(\"c8.inputs\")\n",
    "\n",
    "\n",
    "else: print(\"The graph contains cycles\")\n"
   ]
  },
  {
   "attachments": {},
   "cell_type": "markdown",
   "metadata": {},
   "source": [
    "#### *Test case - c17.net*"
   ]
  },
  {
   "cell_type": "code",
   "execution_count": 30,
   "metadata": {},
   "outputs": [
    {
     "name": "stdout",
     "output_type": "stream",
     "text": [
      "Number of nodes in the graph: 11\n",
      "Time of execution for topological sort method: \n",
      "641 µs ± 91.2 µs per loop (mean ± std. dev. of 7 runs, 1,000 loops each)\n",
      "\n",
      "\n",
      "Time of execution for Event driven method: \n",
      "1.11 ms ± 133 µs per loop (mean ± std. dev. of 7 runs, 1,000 loops each)\n"
     ]
    }
   ],
   "source": [
    "tsort,max_length,alsort,dictt,net = netlist(\"c17.net\")\n",
    "print(\"Number of nodes in the graph: \",end = \"\")\n",
    "print(len(tsort))\n",
    "if(len(tsort)):\n",
    "\n",
    "    print(f\"Time of execution for topological sort method: \")\n",
    "    %timeit topological_sort(\"c17.inputs\")\n",
    "\n",
    "    print(\"\\n\")\n",
    "\n",
    "    print(f\"Time of execution for Event driven method: \")\n",
    "    %timeit event_driven(\"c17.inputs\")\n",
    "\n",
    "else: print(\"The graph contains cycles\")"
   ]
  },
  {
   "attachments": {},
   "cell_type": "markdown",
   "metadata": {},
   "source": [
    "#### *Test case - c432.net*"
   ]
  },
  {
   "cell_type": "code",
   "execution_count": 29,
   "metadata": {},
   "outputs": [
    {
     "name": "stdout",
     "output_type": "stream",
     "text": [
      "Number of nodes in the graph: 219\n",
      "Time of execution for topological sort method: \n",
      "24.8 ms ± 485 µs per loop (mean ± std. dev. of 7 runs, 10 loops each)\n",
      "\n",
      "\n",
      "Time of execution for Event driven method: \n",
      "616 ms ± 11.3 ms per loop (mean ± std. dev. of 7 runs, 1 loop each)\n"
     ]
    }
   ],
   "source": [
    "tsort,max_length,alsort,dictt,net = netlist(\"c432.net\")\n",
    "print(\"Number of nodes in the graph: \",end = \"\")\n",
    "print(len(tsort))\n",
    "if(len(tsort)):\n",
    "\n",
    "    print(f\"Time of execution for topological sort method: \")\n",
    "    %timeit topological_sort(\"c432.inputs\")\n",
    "\n",
    "    print(\"\\n\")\n",
    "\n",
    "    print(f\"Time of execution for Event driven method: \")\n",
    "    %timeit event_driven(\"c432.inputs\")\n",
    "\n",
    "else: print(\"The graph contains cycles\")"
   ]
  },
  {
   "attachments": {},
   "cell_type": "markdown",
   "metadata": {},
   "source": [
    "#### *Test case - parity.net*"
   ]
  },
  {
   "cell_type": "code",
   "execution_count": 31,
   "metadata": {},
   "outputs": [
    {
     "name": "stdout",
     "output_type": "stream",
     "text": [
      "Number of nodes in the graph: 31\n",
      "Time of execution for topological sort method: \n",
      "706 µs ± 50.9 µs per loop (mean ± std. dev. of 7 runs, 1,000 loops each)\n",
      "\n",
      "\n",
      "Time of execution for Event driven method: \n",
      "1.26 ms ± 44.2 µs per loop (mean ± std. dev. of 7 runs, 1,000 loops each)\n"
     ]
    }
   ],
   "source": [
    "tsort,max_length,alsort,dictt,net = netlist(\"parity.net\")\n",
    "print(\"Number of nodes in the graph: \",end = \"\")\n",
    "print(len(tsort))\n",
    "if(len(tsort)):\n",
    "\n",
    "    print(f\"Time of execution for topological sort method: \")\n",
    "    %timeit topological_sort(\"parity.inputs\")\n",
    "\n",
    "    print(\"\\n\")\n",
    "\n",
    "    print(f\"Time of execution for Event driven method: \")\n",
    "    %timeit event_driven(\"parity.inputs\")\n",
    "\n",
    "else: print(\"The graph contains cycles\")"
   ]
  },
  {
   "attachments": {},
   "cell_type": "markdown",
   "metadata": {},
   "source": [
    "#### *Test case - test.net*"
   ]
  },
  {
   "cell_type": "code",
   "execution_count": 37,
   "metadata": {},
   "outputs": [
    {
     "name": "stdout",
     "output_type": "stream",
     "text": [
      "Number of nodes in the graph: 10\n",
      "Time of execution for topological sort method: \n",
      "549 µs ± 88.2 µs per loop (mean ± std. dev. of 7 runs, 1,000 loops each)\n",
      "\n",
      "\n",
      "Time of execution for Event driven method: \n",
      "596 µs ± 25.4 µs per loop (mean ± std. dev. of 7 runs, 1,000 loops each)\n"
     ]
    }
   ],
   "source": [
    "tsort,max_length,alsort,dictt,net = netlist(\"test.net\")\n",
    "print(\"Number of nodes in the graph: \",end = \"\")\n",
    "print(len(tsort))\n",
    "if(len(tsort)):\n",
    "\n",
    "    print(f\"Time of execution for topological sort method: \")\n",
    "    %timeit topological_sort(\"test.inputs\")\n",
    "\n",
    "    print(\"\\n\")\n",
    "\n",
    "    print(f\"Time of execution for Event driven method: \")\n",
    "    %timeit event_driven(\"test.inputs\")\n",
    "\n",
    "else: print(\"The graph contains cycles\")"
   ]
  },
  {
   "attachments": {},
   "cell_type": "markdown",
   "metadata": {},
   "source": [
    "<br>"
   ]
  },
  {
   "attachments": {},
   "cell_type": "markdown",
   "metadata": {},
   "source": [
    "## **Conclusion**"
   ]
  },
  {
   "attachments": {},
   "cell_type": "markdown",
   "metadata": {},
   "source": [
    "- When number of nodes of the graph is 219:\n",
    "   - Topological sort method takes around 26 ms\n",
    "   - Event driven simulation method takes around 642 ms\n",
    "- When number of nodes of the graph is 10:\n",
    "   - Topological sort method takes around 626 µs\n",
    "   - Event driven simulation method takes around 689 µs\n",
    "<br></br>\n",
    "- From this it is quite obvious that, when the graph is small both the methods almost takes same time to execute but as the size of the graph increses the gap between their time of execution widens. That is Event driven takes longer time thus becoming less efficient for huge graphs compared to topological sort method. \n",
    "\n",
    "- From the state table it is very clear that, when the input does not change drastically, the state table won't alter much, and hence lesser time for computation. This facts also justifies the reason behind very low time of execution of test.net as just one primary input which is A has changed while others remains the same\n"
   ]
  }
 ],
 "metadata": {
  "kernelspec": {
   "display_name": "Python 3",
   "language": "python",
   "name": "python3"
  },
  "language_info": {
   "codemirror_mode": {
    "name": "ipython",
    "version": 3
   },
   "file_extension": ".py",
   "mimetype": "text/x-python",
   "name": "python",
   "nbconvert_exporter": "python",
   "pygments_lexer": "ipython3",
   "version": "3.11.1"
  },
  "orig_nbformat": 4,
  "vscode": {
   "interpreter": {
    "hash": "4873c8d68dc7d05f027107aa992795e76291eb1080f3d61c92f530e364807ec7"
   }
  }
 },
 "nbformat": 4,
 "nbformat_minor": 2
}
